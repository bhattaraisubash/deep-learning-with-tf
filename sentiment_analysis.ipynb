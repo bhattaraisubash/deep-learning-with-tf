{
 "cells": [
  {
   "cell_type": "code",
   "execution_count": 1,
   "id": "eaf287ae",
   "metadata": {},
   "outputs": [],
   "source": [
    "import tensorflow as tf\n",
    "from tensorflow import keras\n",
    "from tensorflow.keras.preprocessing.text import Tokenizer\n",
    "from tensorflow.keras.preprocessing.sequence import pad_sequences\n",
    "import numpy as np"
   ]
  },
  {
   "cell_type": "code",
   "execution_count": 2,
   "id": "5c9fb091",
   "metadata": {},
   "outputs": [],
   "source": [
    "#load dataset\n",
    "max_features = 10000\n",
    "(x_train, y_train), (x_test, y_test) = keras.datasets.imdb.load_data(num_words=max_features)"
   ]
  },
  {
   "cell_type": "code",
   "execution_count": 3,
   "id": "8cfd6af8",
   "metadata": {},
   "outputs": [],
   "source": [
    "index = keras.datasets.imdb.get_word_index()\n",
    "reverse_index = dict([(value, key) for (key, value) in index.items()])\n",
    "x_train_decoded = [\" \".join( [reverse_index.get(i - 3, \"#\") for i in item]) for item in x_train]\n",
    "x_test_decoded = [\" \".join( [reverse_index.get(i - 3, \"#\") for i in item]) for item in x_test]"
   ]
  },
  {
   "cell_type": "code",
   "execution_count": 4,
   "id": "cd205106",
   "metadata": {},
   "outputs": [],
   "source": [
    "#preprocess dataset\n",
    "#tokenizer = Tokenizer(num_words=max_features)\n",
    "\n",
    "#no need because already tokenized\n",
    "# tokenizer.fit_on_texts(x_train)\n",
    "# x_train = tokenizer.texts_to_sequences(x_train)\n",
    "# x_test = tokenizer.texts_to_sequences(x_test)\n",
    "\n",
    "#add pad sequences\n",
    "max_len = 200\n",
    "x_train = pad_sequences(x_train, padding='post', maxlen=max_len)\n",
    "x_test = pad_sequences(x_test, padding='post', maxlen=max_len)"
   ]
  },
  {
   "cell_type": "code",
   "execution_count": 5,
   "id": "b650329e",
   "metadata": {},
   "outputs": [
    {
     "name": "stderr",
     "output_type": "stream",
     "text": [
      "2023-04-21 09:28:57.658034: E tensorflow/compiler/xla/stream_executor/cuda/cuda_driver.cc:267] failed call to cuInit: CUDA_ERROR_NO_DEVICE: no CUDA-capable device is detected\n"
     ]
    }
   ],
   "source": [
    "#build the model\n",
    "model = keras.Sequential([\n",
    "    keras.layers.Embedding(max_features, 128, input_length=max_len),\n",
    "    keras.layers.Conv1D(64, 5, activation='relu'),\n",
    "    keras.layers.GlobalMaxPooling1D(),\n",
    "    keras.layers.Dense(64, activation='relu'),\n",
    "    keras.layers.Dropout(0.2),\n",
    "    keras.layers.Dense(1, activation='sigmoid')\n",
    "])"
   ]
  },
  {
   "cell_type": "code",
   "execution_count": 6,
   "id": "9db59aaa",
   "metadata": {
    "scrolled": true
   },
   "outputs": [
    {
     "name": "stdout",
     "output_type": "stream",
     "text": [
      "Model: \"sequential\"\n",
      "_________________________________________________________________\n",
      " Layer (type)                Output Shape              Param #   \n",
      "=================================================================\n",
      " embedding (Embedding)       (None, 200, 128)          1280000   \n",
      "                                                                 \n",
      " conv1d (Conv1D)             (None, 196, 64)           41024     \n",
      "                                                                 \n",
      " global_max_pooling1d (Globa  (None, 64)               0         \n",
      " lMaxPooling1D)                                                  \n",
      "                                                                 \n",
      " dense (Dense)               (None, 64)                4160      \n",
      "                                                                 \n",
      " dropout (Dropout)           (None, 64)                0         \n",
      "                                                                 \n",
      " dense_1 (Dense)             (None, 1)                 65        \n",
      "                                                                 \n",
      "=================================================================\n",
      "Total params: 1,325,249\n",
      "Trainable params: 1,325,249\n",
      "Non-trainable params: 0\n",
      "_________________________________________________________________\n"
     ]
    }
   ],
   "source": [
    "model.summary()"
   ]
  },
  {
   "cell_type": "code",
   "execution_count": 7,
   "id": "3abb990f",
   "metadata": {},
   "outputs": [],
   "source": [
    "#compile the model\n",
    "model.compile(optimizer='adam', loss='binary_crossentropy', metrics=['accuracy'])"
   ]
  },
  {
   "cell_type": "code",
   "execution_count": 8,
   "id": "b6965078",
   "metadata": {},
   "outputs": [
    {
     "name": "stdout",
     "output_type": "stream",
     "text": [
      "Epoch 1/10\n",
      "625/625 [==============================] - 30s 46ms/step - loss: 0.4297 - accuracy: 0.7872 - val_loss: 0.2871 - val_accuracy: 0.8820\n",
      "Epoch 2/10\n",
      "625/625 [==============================] - 27s 43ms/step - loss: 0.1823 - accuracy: 0.9314 - val_loss: 0.2800 - val_accuracy: 0.8900\n",
      "Epoch 3/10\n",
      "625/625 [==============================] - 26s 41ms/step - loss: 0.0394 - accuracy: 0.9905 - val_loss: 0.3507 - val_accuracy: 0.8884\n",
      "Epoch 4/10\n",
      "625/625 [==============================] - 22s 36ms/step - loss: 0.0086 - accuracy: 0.9987 - val_loss: 0.4133 - val_accuracy: 0.8870\n",
      "Epoch 5/10\n",
      "625/625 [==============================] - 23s 37ms/step - loss: 0.0021 - accuracy: 0.9998 - val_loss: 0.4978 - val_accuracy: 0.8760\n",
      "Epoch 6/10\n",
      "625/625 [==============================] - 23s 38ms/step - loss: 6.6688e-04 - accuracy: 1.0000 - val_loss: 0.4766 - val_accuracy: 0.8854\n",
      "Epoch 7/10\n",
      "625/625 [==============================] - 25s 40ms/step - loss: 2.1258e-04 - accuracy: 1.0000 - val_loss: 0.4989 - val_accuracy: 0.8856\n",
      "Epoch 8/10\n",
      "625/625 [==============================] - 26s 42ms/step - loss: 1.3594e-04 - accuracy: 1.0000 - val_loss: 0.5198 - val_accuracy: 0.8874\n",
      "Epoch 9/10\n",
      "625/625 [==============================] - 25s 40ms/step - loss: 8.1887e-05 - accuracy: 1.0000 - val_loss: 0.5406 - val_accuracy: 0.8872\n",
      "Epoch 10/10\n",
      "625/625 [==============================] - 28s 45ms/step - loss: 5.2775e-05 - accuracy: 1.0000 - val_loss: 0.5638 - val_accuracy: 0.8896\n"
     ]
    },
    {
     "data": {
      "text/plain": [
       "<keras.callbacks.History at 0x7f6be0259270>"
      ]
     },
     "execution_count": 8,
     "metadata": {},
     "output_type": "execute_result"
    }
   ],
   "source": [
    "#train the model\n",
    "model.fit(x_train, y_train, epochs=10, batch_size=32, validation_split=0.2)"
   ]
  },
  {
   "cell_type": "code",
   "execution_count": 9,
   "id": "887a1d25",
   "metadata": {},
   "outputs": [
    {
     "name": "stdout",
     "output_type": "stream",
     "text": [
      "782/782 [==============================] - 6s 7ms/step - loss: 0.5729 - accuracy: 0.8838\n"
     ]
    },
    {
     "data": {
      "text/plain": [
       "[0.5728510022163391, 0.8838000297546387]"
      ]
     },
     "execution_count": 9,
     "metadata": {},
     "output_type": "execute_result"
    }
   ],
   "source": [
    "#evaluate the model\n",
    "model.evaluate(x_test, y_test)"
   ]
  },
  {
   "cell_type": "code",
   "execution_count": null,
   "id": "be19945a",
   "metadata": {},
   "outputs": [],
   "source": [
    "#lets test on test set\n",
    "predicted = model.predict(x_test)"
   ]
  },
  {
   "cell_type": "code",
   "execution_count": null,
   "id": "1e31ed16",
   "metadata": {},
   "outputs": [],
   "source": [
    "predicted_output = list(map(lambda x: 'Negative' if x < 0.5 else 'Positive', list(predicted)))\n",
    "test_index = 11\n",
    "print(f'Testing on: {x_test_decoded[test_index]}')\n",
    "print(f'Predicted: {predicted_output[test_index]}')\n",
    "print(f'Actual: {\"Negative\" if y_test[test_index] == 0 else \"Positive\"}')"
   ]
  },
  {
   "cell_type": "code",
   "execution_count": null,
   "id": "bcf0a7a7",
   "metadata": {},
   "outputs": [],
   "source": [
    "# Make predictions on new data\n",
    "#comment and uncomment texts variable below to see results. Above is a negative review and below is positive.\n",
    "\n",
    "#texts = [\"I found this movie to be incredibly boring and uneventful. The acting was wooden and the plot was predictable. I wouldn't recommend it to anyone.\"]\n",
    "texts = [\"I absolutely loved this movie! The acting was top-notch and the story was engaging from beginning to end. I would highly recommend it to anyone.\"]\n",
    "\n",
    "#The 'index' dictionary has keys that are words and values that are integer indices. By default, \n",
    "#the integer indices start from 1, so you can add 3 to each index to get the actual index used in the \n",
    "#IMDB dataset (1 is reserved for padding, 2 for the start of a sequence, and 3 for unknown words).\n",
    "\n",
    "sequences = [np.array([(index.get(word, 0) + 3) for word in text.lower().split()]) for text in texts]\n",
    "data = pad_sequences(sequences, padding='post', maxlen=max_len)\n",
    "\n",
    "y = model.predict(data)\n",
    "\n",
    "print(y) #closer to 0 means negative and closer to 1 means positive"
   ]
  },
  {
   "cell_type": "code",
   "execution_count": null,
   "id": "4157be96",
   "metadata": {},
   "outputs": [],
   "source": []
  }
 ],
 "metadata": {
  "kernelspec": {
   "display_name": "Python 3 (ipykernel)",
   "language": "python",
   "name": "python3"
  },
  "language_info": {
   "codemirror_mode": {
    "name": "ipython",
    "version": 3
   },
   "file_extension": ".py",
   "mimetype": "text/x-python",
   "name": "python",
   "nbconvert_exporter": "python",
   "pygments_lexer": "ipython3",
   "version": "3.10.6"
  }
 },
 "nbformat": 4,
 "nbformat_minor": 5
}
